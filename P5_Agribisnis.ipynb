{
  "nbformat": 4,
  "nbformat_minor": 0,
  "metadata": {
    "colab": {
      "provenance": [],
      "authorship_tag": "ABX9TyPSvsbHBsAc00zQbOO+e6d5",
      "include_colab_link": true
    },
    "kernelspec": {
      "name": "python3",
      "display_name": "Python 3"
    },
    "language_info": {
      "name": "python"
    }
  },
  "cells": [
    {
      "cell_type": "markdown",
      "metadata": {
        "id": "view-in-github",
        "colab_type": "text"
      },
      "source": [
        "<a href=\"https://colab.research.google.com/github/najliaa/AGBL01/blob/main/P5_Agribisnis.ipynb\" target=\"_parent\"><img src=\"https://colab.research.google.com/assets/colab-badge.svg\" alt=\"Open In Colab\"/></a>"
      ]
    },
    {
      "cell_type": "markdown",
      "source": [
        "**VARIABEL DAN ASSIGNMENT**"
      ],
      "metadata": {
        "id": "Z5KunGeisp4R"
      }
    },
    {
      "cell_type": "code",
      "execution_count": null,
      "metadata": {
        "colab": {
          "base_uri": "https://localhost:8080/"
        },
        "id": "czh90Y2eqZiK",
        "outputId": "837780c9-f821-41ac-de57-d91daa80ef5c"
      },
      "outputs": [
        {
          "output_type": "stream",
          "name": "stdout",
          "text": [
            "John Doe\n",
            "Biodata\n",
            " Budi Susanto \n",
            " 22 \n",
            " Berenang\n"
          ]
        }
      ],
      "source": [
        "#proses memasukan data ke dalam variabel\n",
        "nama = \"John Doe\"\n",
        "#proses mencetak variabel\n",
        "print(nama)\n",
        "\n",
        "namaDepan = \"Budi\"\n",
        "namaBelakang = \"Susanto\"\n",
        "nama = namaDepan + \" \" + namaBelakang\n",
        "umur = 22\n",
        "hobi = \"Berenang\"\n",
        "print(\"Biodata\\n\", nama, \"\\n\", umur, \"\\n\", hobi)"
      ]
    },
    {
      "cell_type": "code",
      "source": [
        "#nilai dan tipe data dalam variabel dapat diubah\n",
        "umur = 20 #nilai awal\n",
        "print(umur) #mencetak nilai umur\n",
        "type(umur) #mengecek tipe data umur\n",
        "umur = \"dua puluh satu\" #nilai setelah diubah\n",
        "print(umur) #mencetak nilai umur\n",
        "type(umur) #mengecek tipe data umur"
      ],
      "metadata": {
        "colab": {
          "base_uri": "https://localhost:8080/"
        },
        "id": "6EDwUNuaquFT",
        "outputId": "ebd5c86d-94a7-4550-f9a2-65e9f59c07bd"
      },
      "execution_count": null,
      "outputs": [
        {
          "output_type": "stream",
          "name": "stdout",
          "text": [
            "20\n",
            "dua puluh satu\n"
          ]
        },
        {
          "output_type": "execute_result",
          "data": {
            "text/plain": [
              "str"
            ]
          },
          "metadata": {},
          "execution_count": 2
        }
      ]
    },
    {
      "cell_type": "code",
      "source": [
        "#contoh variabel lainya\n",
        "inivariabel = \"Halo\"\n",
        "ini_juga_variabel = \"Hai\"\n",
        "_inivariabeljuga = \"Hi\"\n",
        "inivariabel222 = \"Bye\"\n",
        "\n",
        "panjang = 10\n",
        "lebar = 5\n",
        "luas = panjang * lebar\n",
        "print(luas)"
      ],
      "metadata": {
        "colab": {
          "base_uri": "https://localhost:8080/"
        },
        "id": "394LKgw-rIQE",
        "outputId": "7aa7bd21-56a1-4b76-ded3-95222cd7732b"
      },
      "execution_count": null,
      "outputs": [
        {
          "output_type": "stream",
          "name": "stdout",
          "text": [
            "50\n"
          ]
        }
      ]
    },
    {
      "cell_type": "markdown",
      "source": [
        "**INPUT DAN OUTPUT**"
      ],
      "metadata": {
        "id": "JRSTtTeWszhH"
      }
    },
    {
      "cell_type": "code",
      "source": [
        "print(\"Hello, World!\") # (1)\n",
        "print(\"Ini program\", end=\"\") # (2)\n",
        "print(\" pertama saya\") # (3)\n",
        "print(\"Dengan\", \"Koma\")\n",
        "# Ini akan menghasilkan luaran \"Dengan Koma\"\n",
        "\n",
        "print(\"Dengan\" + \" Plus\")\n",
        "# Ini akan menghasilkan luaran \"DenganPlus\"\n",
        "# Perhatikan '+' pada print melakukan konkatenasi pada string saja.\n",
        "variabel = \" sebuah nilai\"\n",
        "print(f\"Dengan format {variabel}\")\n",
        "# Ini akan menghasilkan luaran \"Dengan format sebuah nilai\"\n",
        "# {variabel} akan diubah dengan nilai dari variabel bersesuaian.\n",
        "\n",
        "# Ini adalah sebuah komentar.\n",
        "# Semua yang ada setelah tanda pagar (#) akan diabaikan oleh interpreter"
      ],
      "metadata": {
        "colab": {
          "base_uri": "https://localhost:8080/"
        },
        "id": "_E7_I25krfmq",
        "outputId": "54787cb5-0830-49fb-9c87-aad9da8a062d"
      },
      "execution_count": null,
      "outputs": [
        {
          "output_type": "stream",
          "name": "stdout",
          "text": [
            "Hello, World!\n",
            "Ini program pertama saya\n",
            "Dengan Koma\n",
            "Dengan Plus\n",
            "Dengan format  sebuah nilai\n"
          ]
        }
      ]
    },
    {
      "cell_type": "code",
      "source": [
        "S = input(\"Masukkan kalimat: \") #(1)\n",
        "print(\"Anda memasuk kan kalimat: \" + S) #(2)\n",
        "N = int(input(\"Masukkan sebuah angka: \")) # (3)\n",
        "print(\"Jika angka Anda ditambah 5, hasilnya: \" + str(N + 5)) #(4)"
      ],
      "metadata": {
        "colab": {
          "base_uri": "https://localhost:8080/"
        },
        "id": "0qhgmw6er7Q-",
        "outputId": "1a494dd9-769c-409a-9101-901ebb4725c3"
      },
      "execution_count": null,
      "outputs": [
        {
          "output_type": "stream",
          "name": "stdout",
          "text": [
            "Masukkan kalimat: aku prodi agribisnis\n",
            "Anda memasuk kan kalimat: aku prodi agribisnis\n",
            "Masukkan sebuah angka: 24\n",
            "Jika angka Anda ditambah 5, hasilnya: 29\n"
          ]
        }
      ]
    },
    {
      "cell_type": "markdown",
      "source": [
        "**TIPE DATA**"
      ],
      "metadata": {
        "id": "IyQAPNjpsujP"
      }
    },
    {
      "cell_type": "code",
      "source": [
        "#contoh tipe data\n",
        "#tipe data Boolean\n",
        "print(True)\n",
        "\n",
        "#tipe data String\n",
        "print(\"Ayo belajar Python\")\n",
        "print('Belajar Python Sangat Mudah')\n",
        "\n",
        "#tipe data Integer\n",
        "print(20)\n",
        "\n",
        "#tipe data Float\n",
        "print(3.14)"
      ],
      "metadata": {
        "colab": {
          "base_uri": "https://localhost:8080/"
        },
        "id": "1dux6Du7sIMl",
        "outputId": "9c8fd71e-aad9-4008-f226-fe7b7feff885"
      },
      "execution_count": null,
      "outputs": [
        {
          "output_type": "stream",
          "name": "stdout",
          "text": [
            "True\n",
            "Ayo belajar Python\n",
            "Belajar Python Sangat Mudah\n",
            "20\n",
            "3.14\n"
          ]
        }
      ]
    },
    {
      "cell_type": "markdown",
      "source": [
        "**KONVERSI TIPE DATA KE PYTHON**"
      ],
      "metadata": {
        "id": "z4rN7MeDs675"
      }
    },
    {
      "cell_type": "code",
      "source": [
        "#interger ke float\n",
        "x = float(5)\n",
        "print(x)\n",
        "\n",
        "#float ke integer\n",
        "x = int(5.6)\n",
        "print(x)\n",
        "\n",
        "#suatu nilai ke string\n",
        "x = str(9)\n",
        "print(x)\n",
        "\n",
        "#kumpulan data ke set, tuple, dan list\n",
        "X = set([1, 2, 3])\n",
        "y = tuple({5, 6, 7})\n",
        "z = list((\"hello\"))\n",
        "print(x)\n",
        "print(y)\n",
        "print(z)"
      ],
      "metadata": {
        "colab": {
          "base_uri": "https://localhost:8080/"
        },
        "id": "5QEy8Ozns-Qc",
        "outputId": "be27674f-cb5d-4352-ec0f-f4221c24e9ad"
      },
      "execution_count": null,
      "outputs": [
        {
          "output_type": "stream",
          "name": "stdout",
          "text": [
            "5.0\n",
            "5\n",
            "9\n",
            "9\n",
            "(5, 6, 7)\n",
            "['h', 'e', 'l', 'l', 'o']\n"
          ]
        }
      ]
    },
    {
      "cell_type": "markdown",
      "source": [
        "**EKSPRESI PADA PYTHON**"
      ],
      "metadata": {
        "id": "krYmQiYwtfZa"
      }
    },
    {
      "cell_type": "code",
      "source": [
        "x = 8\n",
        "y = 2\n",
        "result = x + y\n",
        "print(result)"
      ],
      "metadata": {
        "colab": {
          "base_uri": "https://localhost:8080/"
        },
        "id": "6fITf7qSttO1",
        "outputId": "1a827cc3-ed7d-401b-8615-0f2c4912c78e"
      },
      "execution_count": null,
      "outputs": [
        {
          "output_type": "stream",
          "name": "stdout",
          "text": [
            "10\n"
          ]
        }
      ]
    },
    {
      "cell_type": "markdown",
      "source": [
        "**OPERATOR ARITMATIKA**"
      ],
      "metadata": {
        "id": "MK4drGEiuPMC"
      }
    },
    {
      "cell_type": "code",
      "source": [
        "# Penjumlahan\n",
        "print(13 + 2)\n",
        "apel = 7\n",
        "jeruk = 9\n",
        "buah = apel + jeruk  # Menjumlahkan jumlah apel dan jeruk\n",
        "print(f\"Jumlah buah: {buah}\")\n",
        "\n",
        "# Pengurangan\n",
        "hutang = 10000\n",
        "bayar = 5000\n",
        "sisa_hutang = hutang - bayar  # Menghitung sisa hutang\n",
        "print(f\"Sisa hutang Anda adalah {sisa_hutang}\")\n",
        "\n",
        "# Perkalian\n",
        "panjang = 15\n",
        "lebar = 8\n",
        "luas = panjang * lebar  # Menghitung luas persegi panjang\n",
        "print(f\"Luas persegi panjang: {luas}\")\n",
        "\n",
        "# Pembagian\n",
        "kue = 16\n",
        "anak = 4\n",
        "kue_per_anak = kue / anak  # Menghitung bagian kue per anak\n",
        "print(f\"Setiap anak akan mendapatkan bagian kue sebanyak {kue_per_anak}\")\n",
        "\n",
        "# Sisa Bagi / Modulus\n",
        "bilangan1 = 14\n",
        "bilangan2 = 5\n",
        "hasil = bilangan1 % bilangan2  # Menghitung sisa bagi\n",
        "print(f\"Sisa bagi dari bilangan {bilangan1} dan {bilangan2} adalah {hasil}\")\n",
        "\n",
        "# Pangkat\n",
        "bilangan3 = 8\n",
        "bilangan4 = 2\n",
        "hasil_pangkat = bilangan3 ** bilangan4  # Menghitung hasil pangkat print(f\"Hasil pangkat: {hasil_pangkat}\")\n",
        "\n",
        "# Pembagian Bulat\n",
        "print(10 // 3)\n",
        "# 10 dibagi 3 adalah 3.3333. Karena dibulatkan maka akan menghasilkan nilai 3"
      ],
      "metadata": {
        "colab": {
          "base_uri": "https://localhost:8080/"
        },
        "id": "YWAdEvKyuVV7",
        "outputId": "4d01157d-a705-4b26-a4f1-bcb853f44f07"
      },
      "execution_count": null,
      "outputs": [
        {
          "output_type": "stream",
          "name": "stdout",
          "text": [
            "15\n",
            "Jumlah buah: 16\n",
            "Sisa hutang Anda adalah 5000\n",
            "Luas persegi panjang: 120\n",
            "Setiap anak akan mendapatkan bagian kue sebanyak 4.0\n",
            "Sisa bagi dari bilangan 14 dan 5 adalah 4\n",
            "3\n"
          ]
        }
      ]
    },
    {
      "cell_type": "markdown",
      "source": [
        "**OPERATOR PERBANDINGAN**"
      ],
      "metadata": {
        "id": "XZmKcVHuusSJ"
      }
    },
    {
      "cell_type": "code",
      "source": [
        "# SAMA DENGAN\n",
        "print(1 == 1) # Hasilnya akan bernilai True karena satu sama dengan satu\n",
        "print(1 == 2) # Hasilnya akan bernilai False karena satu tidak sama dengan dua"
      ],
      "metadata": {
        "colab": {
          "base_uri": "https://localhost:8080/"
        },
        "id": "bJXhzpafuyQq",
        "outputId": "2d3facfe-b291-4c5a-cb6e-b1713b372885"
      },
      "execution_count": null,
      "outputs": [
        {
          "output_type": "stream",
          "name": "stdout",
          "text": [
            "True\n",
            "False\n"
          ]
        }
      ]
    },
    {
      "cell_type": "code",
      "source": [
        "# TIDAK SAMA DENGAN\n",
        "print(2 != 2) # Hasilnya akan bernilai False karena dua seharusnya sama dengan dua\n",
        "print(2 != 3) # Hasilnya akan bernilai True karena dua tidak sama dengan tiga"
      ],
      "metadata": {
        "colab": {
          "base_uri": "https://localhost:8080/"
        },
        "id": "38hyktcGu9NL",
        "outputId": "277edb12-7a15-4ec1-b44c-2f4ca2223f76"
      },
      "execution_count": null,
      "outputs": [
        {
          "output_type": "stream",
          "name": "stdout",
          "text": [
            "False\n",
            "True\n"
          ]
        }
      ]
    },
    {
      "cell_type": "code",
      "source": [
        "# LEBIH BESAR DARI\n",
        "print(5 > 3) # Hasilnya akan bernilai True karena lima lebih besar dari tiga\n",
        "\n",
        "# LEBIH KECIL DARI\n",
        "print(5 < 3) # Hasilnya akan bernilai False karena lima tidak lebih besar dari tiga\n",
        "\n",
        "# LEBIH BESAR DARI SAMA DENGAN\n",
        "print(5 >= 3) # Hasilnya akan bernilai True karena lima lebih besar dari sama dengan tiga\n",
        "\n",
        "# LEBIH KECIL DARI SAMA DENGAN\n",
        "print(5 <= 3) # Hasilnya akan bernilai False karena lima tidak lebih besar dari sama dengan tiga"
      ],
      "metadata": {
        "colab": {
          "base_uri": "https://localhost:8080/"
        },
        "id": "QIR8b_PMvBnt",
        "outputId": "ab618da4-0f21-4f4e-a2b8-82a1cf08476b"
      },
      "execution_count": null,
      "outputs": [
        {
          "output_type": "stream",
          "name": "stdout",
          "text": [
            "True\n",
            "False\n",
            "True\n",
            "False\n"
          ]
        }
      ]
    },
    {
      "cell_type": "code",
      "source": [
        "# Penjumlahan\n",
        "print(13 + 2)\n",
        "apel = 7\n",
        "jeruk = 9 (ini adalah banyaknya jeruk)\n",
        "buah = apel + jeruk  # Menjumlahkan jumlah apel dan jeruk\n",
        "print(f\"Jumlah buah: {buah}\")"
      ],
      "metadata": {
        "colab": {
          "base_uri": "https://localhost:8080/",
          "height": 106
        },
        "id": "Fq2Ua4nzvNU0",
        "outputId": "91b29271-533e-4dc3-ceda-f24361dca535"
      },
      "execution_count": null,
      "outputs": [
        {
          "output_type": "error",
          "ename": "SyntaxError",
          "evalue": "invalid syntax. Perhaps you forgot a comma? (<ipython-input-27-1630b5f172ee>, line 4)",
          "traceback": [
            "\u001b[0;36m  File \u001b[0;32m\"<ipython-input-27-1630b5f172ee>\"\u001b[0;36m, line \u001b[0;32m4\u001b[0m\n\u001b[0;31m    jeruk = 9 (ini adalah banyaknya jeruk)\u001b[0m\n\u001b[0m               ^\u001b[0m\n\u001b[0;31mSyntaxError\u001b[0m\u001b[0;31m:\u001b[0m invalid syntax. Perhaps you forgot a comma?\n"
          ]
        }
      ]
    },
    {
      "cell_type": "code",
      "source": [
        "# Penjumlahan\n",
        "print(13 + 2)\n",
        "apel = 7\n",
        "jeruk = 9 #ini adalah banyaknya jeruk\n",
        "buah = apel + jeruk  # Menjumlahkan jumlah apel dan jeruk\n",
        "print(f\"Jumlah buah: {buah}\")"
      ],
      "metadata": {
        "id": "KetRaKp4vVNT",
        "outputId": "395c707b-52e9-4fa9-c9a0-50be35488273",
        "colab": {
          "base_uri": "https://localhost:8080/"
        }
      },
      "execution_count": null,
      "outputs": [
        {
          "output_type": "stream",
          "name": "stdout",
          "text": [
            "15\n",
            "Jumlah buah: 16\n"
          ]
        }
      ]
    }
  ]
}