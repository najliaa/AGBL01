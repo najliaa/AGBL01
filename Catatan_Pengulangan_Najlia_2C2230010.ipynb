{
  "nbformat": 4,
  "nbformat_minor": 0,
  "metadata": {
    "colab": {
      "provenance": [],
      "include_colab_link": true
    },
    "kernelspec": {
      "name": "python3",
      "display_name": "Python 3"
    },
    "language_info": {
      "name": "python"
    }
  },
  "cells": [
    {
      "cell_type": "markdown",
      "metadata": {
        "id": "view-in-github",
        "colab_type": "text"
      },
      "source": [
        "<a href=\"https://colab.research.google.com/github/najliaa/AGBL01/blob/main/Catatan_Pengulangan_Najlia_2C2230010.ipynb\" target=\"_parent\"><img src=\"https://colab.research.google.com/assets/colab-badge.svg\" alt=\"Open In Colab\"/></a>"
      ]
    },
    {
      "cell_type": "markdown",
      "source": [
        "#**🖥️👩🏻‍💻PRAKTIKUM PEMROGRAMAN LANJUT🔥**\n",
        "##**Pertemuan (2) PENGULANGAN (LOOP) - Senin, 21 Oktober 2024**\n",
        "\n",
        "👤 Nama: P. Diddy / NRP: 2C2210000 / Kelas: III/A Sains Data\n",
        "\n",
        "💬Deskripsi Pembahasan Materi Pengulangan:\n",
        "\n",
        "1.1.  Pengulangan (LOOP) 🔂\n",
        "- While Loop 🐋\n",
        "\n",
        "- For Loop\n",
        "\n",
        "1.2. Pengulangan Bersarang ( NESTED LOOP) 🔂🐦‍\n",
        "\n",
        "\n"
      ],
      "metadata": {
        "id": "_bN6_LxQCJZT"
      }
    },
    {
      "cell_type": "markdown",
      "source": [
        "#🤸🏻‍♀️ EKSPLORASI PRIBADI DI KELAS ✨"
      ],
      "metadata": {
        "id": "N0U2Qjks8P9F"
      }
    },
    {
      "cell_type": "markdown",
      "source": [
        "PENGENALAN LIST\n",
        "List merupakan mutable atau berarti anda dapat mengubah elemen-elemennya."
      ],
      "metadata": {
        "id": "2JzYHygYLXDK"
      }
    },
    {
      "cell_type": "code",
      "execution_count": null,
      "metadata": {
        "id": "itmMcxv88OIm",
        "outputId": "ea229a12-56a3-44c0-ecfa-2191a57d804f",
        "colab": {
          "base_uri": "https://localhost:8080/"
        }
      },
      "outputs": [
        {
          "output_type": "stream",
          "name": "stdout",
          "text": [
            "[1, 2, 10]\n"
          ]
        }
      ],
      "source": [
        "my_list = [1, 2, 3]\n",
        "my_list[2]= 10 #list dapat diubah\n",
        "print(my_list) #output: [10, 2, 3]"
      ]
    },
    {
      "cell_type": "markdown",
      "source": [
        "PENGENALAN TUPLE\n",
        "Tuple adalah immutable, artinya setelah tuple dibuat, elemen-elemennya tidak bisa diubah, ditambah, atau dihapus."
      ],
      "metadata": {
        "id": "YiFTHxmvMAbT"
      }
    },
    {
      "cell_type": "code",
      "source": [
        "my_tuple=(1, 2, 3)\n",
        "my_tuple[2]= 10 #akan menghasilkan error"
      ],
      "metadata": {
        "id": "th5ehS1HML8E",
        "outputId": "171f0ace-4a07-4f45-f3d8-daacd4697aef",
        "colab": {
          "base_uri": "https://localhost:8080/",
          "height": 159
        }
      },
      "execution_count": null,
      "outputs": [
        {
          "output_type": "error",
          "ename": "TypeError",
          "evalue": "'tuple' object does not support item assignment",
          "traceback": [
            "\u001b[0;31m---------------------------------------------------------------------------\u001b[0m",
            "\u001b[0;31mTypeError\u001b[0m                                 Traceback (most recent call last)",
            "\u001b[0;32m<ipython-input-7-3796fa4b9c27>\u001b[0m in \u001b[0;36m<cell line: 2>\u001b[0;34m()\u001b[0m\n\u001b[1;32m      1\u001b[0m \u001b[0mmy_tuple\u001b[0m\u001b[0;34m=\u001b[0m\u001b[0;34m(\u001b[0m\u001b[0;36m1\u001b[0m\u001b[0;34m,\u001b[0m \u001b[0;36m2\u001b[0m\u001b[0;34m,\u001b[0m \u001b[0;36m3\u001b[0m\u001b[0;34m)\u001b[0m\u001b[0;34m\u001b[0m\u001b[0;34m\u001b[0m\u001b[0m\n\u001b[0;32m----> 2\u001b[0;31m \u001b[0mmy_tuple\u001b[0m\u001b[0;34m[\u001b[0m\u001b[0;36m2\u001b[0m\u001b[0;34m]\u001b[0m\u001b[0;34m=\u001b[0m \u001b[0;36m10\u001b[0m \u001b[0;31m#akan menghasilkan error\u001b[0m\u001b[0;34m\u001b[0m\u001b[0;34m\u001b[0m\u001b[0m\n\u001b[0m",
            "\u001b[0;31mTypeError\u001b[0m: 'tuple' object does not support item assignment"
          ]
        }
      ]
    },
    {
      "cell_type": "markdown",
      "source": [
        "- Interpretasi coding:\n",
        "\n",
        "- Interpretasi Hasil:"
      ],
      "metadata": {
        "id": "f1J9LJyv9-YC"
      }
    },
    {
      "cell_type": "markdown",
      "source": [
        "PERULANGAN"
      ],
      "metadata": {
        "id": "GQVN8soSMe7y"
      }
    },
    {
      "cell_type": "markdown",
      "source": [
        "FOR LOOP"
      ],
      "metadata": {
        "id": "uUggoeyiMk6p"
      }
    },
    {
      "cell_type": "code",
      "source": [
        "var_list = [1,2,3,4,5,6,7,8,9,10]\n",
        "for i in var_list:\n",
        "  print(i)"
      ],
      "metadata": {
        "id": "BjFYYKcjMoRx",
        "outputId": "31b25345-f762-492c-a834-a76cffe318c3",
        "colab": {
          "base_uri": "https://localhost:8080/"
        }
      },
      "execution_count": null,
      "outputs": [
        {
          "output_type": "stream",
          "name": "stdout",
          "text": [
            "1\n",
            "2\n",
            "3\n",
            "4\n",
            "5\n",
            "6\n",
            "7\n",
            "8\n",
            "9\n",
            "10\n"
          ]
        }
      ]
    },
    {
      "cell_type": "code",
      "source": [
        "huruf = \"Sains Data IKOPIN University\"\n",
        "for i in huruf:\n",
        "  print(i)"
      ],
      "metadata": {
        "id": "5ugNkZDrN4Mq",
        "outputId": "df9b75c6-ed6b-4701-d06b-7e5cc1c65cba",
        "colab": {
          "base_uri": "https://localhost:8080/"
        }
      },
      "execution_count": null,
      "outputs": [
        {
          "output_type": "stream",
          "name": "stdout",
          "text": [
            "S\n",
            "a\n",
            "i\n",
            "n\n",
            "s\n",
            " \n",
            "D\n",
            "a\n",
            "t\n",
            "a\n",
            " \n",
            "I\n",
            "K\n",
            "O\n",
            "P\n",
            "I\n",
            "N\n",
            " \n",
            "U\n",
            "n\n",
            "i\n",
            "v\n",
            "e\n",
            "r\n",
            "s\n",
            "i\n",
            "t\n",
            "y\n"
          ]
        }
      ]
    },
    {
      "cell_type": "code",
      "source": [
        "for i in range (10):\n",
        "  print(i)"
      ],
      "metadata": {
        "id": "nyHpRncfPe8R",
        "outputId": "e6b5c15e-b4c3-410e-ff0a-3dc56b5c300e",
        "colab": {
          "base_uri": "https://localhost:8080/"
        }
      },
      "execution_count": null,
      "outputs": [
        {
          "output_type": "stream",
          "name": "stdout",
          "text": [
            "0\n",
            "1\n",
            "2\n",
            "3\n",
            "4\n",
            "5\n",
            "6\n",
            "7\n",
            "8\n",
            "9\n"
          ]
        }
      ]
    },
    {
      "cell_type": "code",
      "source": [
        "for i in range(1,10):\n",
        "  print(i)"
      ],
      "metadata": {
        "id": "GxZ1bogAOXD5",
        "outputId": "a3fb4cf6-6454-4463-f393-e3ec6163b579",
        "colab": {
          "base_uri": "https://localhost:8080/"
        }
      },
      "execution_count": null,
      "outputs": [
        {
          "output_type": "stream",
          "name": "stdout",
          "text": [
            "1\n",
            "2\n",
            "3\n",
            "4\n",
            "5\n",
            "6\n",
            "7\n",
            "8\n",
            "9\n"
          ]
        }
      ]
    },
    {
      "cell_type": "code",
      "source": [
        "for i in range (0,10,1):\n",
        "  print(i)"
      ],
      "metadata": {
        "id": "zyAYjTgAP2bR",
        "outputId": "1715c8ad-50de-4013-b0a3-bbc238f05236",
        "colab": {
          "base_uri": "https://localhost:8080/"
        }
      },
      "execution_count": null,
      "outputs": [
        {
          "output_type": "stream",
          "name": "stdout",
          "text": [
            "0\n",
            "1\n",
            "2\n",
            "3\n",
            "4\n",
            "5\n",
            "6\n",
            "7\n",
            "8\n",
            "9\n"
          ]
        }
      ]
    },
    {
      "cell_type": "code",
      "source": [
        "for i in range(1,10,2):\n",
        "  print(i)"
      ],
      "metadata": {
        "id": "N6P46a7QPapR",
        "outputId": "84173a2d-8cec-4e37-8c12-741fa8d20f91",
        "colab": {
          "base_uri": "https://localhost:8080/"
        }
      },
      "execution_count": null,
      "outputs": [
        {
          "output_type": "stream",
          "name": "stdout",
          "text": [
            "1\n",
            "3\n",
            "5\n",
            "7\n",
            "9\n"
          ]
        }
      ]
    },
    {
      "cell_type": "code",
      "source": [
        "for i in range (1000):\n",
        "  print(\"Hello Naje Cute\")"
      ],
      "metadata": {
        "id": "qNWozgT8QCpa",
        "outputId": "d130b293-0c8c-49db-f8c3-aab6ff13b4e4",
        "colab": {
          "base_uri": "https://localhost:8080/"
        }
      },
      "execution_count": null,
      "outputs": [
        {
          "output_type": "stream",
          "name": "stdout",
          "text": [
            "Hello Naje Cute\n",
            "Hello Naje Cute\n",
            "Hello Naje Cute\n",
            "Hello Naje Cute\n",
            "Hello Naje Cute\n",
            "Hello Naje Cute\n",
            "Hello Naje Cute\n",
            "Hello Naje Cute\n",
            "Hello Naje Cute\n",
            "Hello Naje Cute\n",
            "Hello Naje Cute\n",
            "Hello Naje Cute\n",
            "Hello Naje Cute\n",
            "Hello Naje Cute\n",
            "Hello Naje Cute\n",
            "Hello Naje Cute\n",
            "Hello Naje Cute\n",
            "Hello Naje Cute\n",
            "Hello Naje Cute\n",
            "Hello Naje Cute\n",
            "Hello Naje Cute\n",
            "Hello Naje Cute\n",
            "Hello Naje Cute\n",
            "Hello Naje Cute\n",
            "Hello Naje Cute\n",
            "Hello Naje Cute\n",
            "Hello Naje Cute\n",
            "Hello Naje Cute\n",
            "Hello Naje Cute\n",
            "Hello Naje Cute\n",
            "Hello Naje Cute\n",
            "Hello Naje Cute\n",
            "Hello Naje Cute\n",
            "Hello Naje Cute\n",
            "Hello Naje Cute\n",
            "Hello Naje Cute\n",
            "Hello Naje Cute\n",
            "Hello Naje Cute\n",
            "Hello Naje Cute\n",
            "Hello Naje Cute\n",
            "Hello Naje Cute\n",
            "Hello Naje Cute\n",
            "Hello Naje Cute\n",
            "Hello Naje Cute\n",
            "Hello Naje Cute\n",
            "Hello Naje Cute\n",
            "Hello Naje Cute\n",
            "Hello Naje Cute\n",
            "Hello Naje Cute\n",
            "Hello Naje Cute\n",
            "Hello Naje Cute\n",
            "Hello Naje Cute\n",
            "Hello Naje Cute\n",
            "Hello Naje Cute\n",
            "Hello Naje Cute\n",
            "Hello Naje Cute\n",
            "Hello Naje Cute\n",
            "Hello Naje Cute\n",
            "Hello Naje Cute\n",
            "Hello Naje Cute\n",
            "Hello Naje Cute\n",
            "Hello Naje Cute\n",
            "Hello Naje Cute\n",
            "Hello Naje Cute\n",
            "Hello Naje Cute\n",
            "Hello Naje Cute\n",
            "Hello Naje Cute\n",
            "Hello Naje Cute\n",
            "Hello Naje Cute\n",
            "Hello Naje Cute\n",
            "Hello Naje Cute\n",
            "Hello Naje Cute\n",
            "Hello Naje Cute\n",
            "Hello Naje Cute\n",
            "Hello Naje Cute\n",
            "Hello Naje Cute\n",
            "Hello Naje Cute\n",
            "Hello Naje Cute\n",
            "Hello Naje Cute\n",
            "Hello Naje Cute\n",
            "Hello Naje Cute\n",
            "Hello Naje Cute\n",
            "Hello Naje Cute\n",
            "Hello Naje Cute\n",
            "Hello Naje Cute\n",
            "Hello Naje Cute\n",
            "Hello Naje Cute\n",
            "Hello Naje Cute\n",
            "Hello Naje Cute\n",
            "Hello Naje Cute\n",
            "Hello Naje Cute\n",
            "Hello Naje Cute\n",
            "Hello Naje Cute\n",
            "Hello Naje Cute\n",
            "Hello Naje Cute\n",
            "Hello Naje Cute\n",
            "Hello Naje Cute\n",
            "Hello Naje Cute\n",
            "Hello Naje Cute\n",
            "Hello Naje Cute\n",
            "Hello Naje Cute\n",
            "Hello Naje Cute\n",
            "Hello Naje Cute\n",
            "Hello Naje Cute\n",
            "Hello Naje Cute\n",
            "Hello Naje Cute\n",
            "Hello Naje Cute\n",
            "Hello Naje Cute\n",
            "Hello Naje Cute\n",
            "Hello Naje Cute\n",
            "Hello Naje Cute\n",
            "Hello Naje Cute\n",
            "Hello Naje Cute\n",
            "Hello Naje Cute\n",
            "Hello Naje Cute\n",
            "Hello Naje Cute\n",
            "Hello Naje Cute\n",
            "Hello Naje Cute\n",
            "Hello Naje Cute\n",
            "Hello Naje Cute\n",
            "Hello Naje Cute\n",
            "Hello Naje Cute\n",
            "Hello Naje Cute\n",
            "Hello Naje Cute\n",
            "Hello Naje Cute\n",
            "Hello Naje Cute\n",
            "Hello Naje Cute\n",
            "Hello Naje Cute\n",
            "Hello Naje Cute\n",
            "Hello Naje Cute\n",
            "Hello Naje Cute\n",
            "Hello Naje Cute\n",
            "Hello Naje Cute\n",
            "Hello Naje Cute\n",
            "Hello Naje Cute\n",
            "Hello Naje Cute\n",
            "Hello Naje Cute\n",
            "Hello Naje Cute\n",
            "Hello Naje Cute\n",
            "Hello Naje Cute\n",
            "Hello Naje Cute\n",
            "Hello Naje Cute\n",
            "Hello Naje Cute\n",
            "Hello Naje Cute\n",
            "Hello Naje Cute\n",
            "Hello Naje Cute\n",
            "Hello Naje Cute\n",
            "Hello Naje Cute\n",
            "Hello Naje Cute\n",
            "Hello Naje Cute\n",
            "Hello Naje Cute\n",
            "Hello Naje Cute\n",
            "Hello Naje Cute\n",
            "Hello Naje Cute\n",
            "Hello Naje Cute\n",
            "Hello Naje Cute\n",
            "Hello Naje Cute\n",
            "Hello Naje Cute\n",
            "Hello Naje Cute\n",
            "Hello Naje Cute\n",
            "Hello Naje Cute\n",
            "Hello Naje Cute\n",
            "Hello Naje Cute\n",
            "Hello Naje Cute\n",
            "Hello Naje Cute\n",
            "Hello Naje Cute\n",
            "Hello Naje Cute\n",
            "Hello Naje Cute\n",
            "Hello Naje Cute\n",
            "Hello Naje Cute\n",
            "Hello Naje Cute\n",
            "Hello Naje Cute\n",
            "Hello Naje Cute\n",
            "Hello Naje Cute\n",
            "Hello Naje Cute\n",
            "Hello Naje Cute\n",
            "Hello Naje Cute\n",
            "Hello Naje Cute\n",
            "Hello Naje Cute\n",
            "Hello Naje Cute\n",
            "Hello Naje Cute\n",
            "Hello Naje Cute\n",
            "Hello Naje Cute\n",
            "Hello Naje Cute\n",
            "Hello Naje Cute\n",
            "Hello Naje Cute\n",
            "Hello Naje Cute\n",
            "Hello Naje Cute\n",
            "Hello Naje Cute\n",
            "Hello Naje Cute\n",
            "Hello Naje Cute\n",
            "Hello Naje Cute\n",
            "Hello Naje Cute\n",
            "Hello Naje Cute\n",
            "Hello Naje Cute\n",
            "Hello Naje Cute\n",
            "Hello Naje Cute\n",
            "Hello Naje Cute\n",
            "Hello Naje Cute\n",
            "Hello Naje Cute\n",
            "Hello Naje Cute\n",
            "Hello Naje Cute\n",
            "Hello Naje Cute\n",
            "Hello Naje Cute\n",
            "Hello Naje Cute\n",
            "Hello Naje Cute\n",
            "Hello Naje Cute\n",
            "Hello Naje Cute\n",
            "Hello Naje Cute\n",
            "Hello Naje Cute\n",
            "Hello Naje Cute\n",
            "Hello Naje Cute\n",
            "Hello Naje Cute\n",
            "Hello Naje Cute\n",
            "Hello Naje Cute\n",
            "Hello Naje Cute\n",
            "Hello Naje Cute\n",
            "Hello Naje Cute\n",
            "Hello Naje Cute\n",
            "Hello Naje Cute\n",
            "Hello Naje Cute\n",
            "Hello Naje Cute\n",
            "Hello Naje Cute\n",
            "Hello Naje Cute\n",
            "Hello Naje Cute\n",
            "Hello Naje Cute\n",
            "Hello Naje Cute\n",
            "Hello Naje Cute\n",
            "Hello Naje Cute\n",
            "Hello Naje Cute\n",
            "Hello Naje Cute\n",
            "Hello Naje Cute\n",
            "Hello Naje Cute\n",
            "Hello Naje Cute\n",
            "Hello Naje Cute\n",
            "Hello Naje Cute\n",
            "Hello Naje Cute\n",
            "Hello Naje Cute\n",
            "Hello Naje Cute\n",
            "Hello Naje Cute\n",
            "Hello Naje Cute\n",
            "Hello Naje Cute\n",
            "Hello Naje Cute\n",
            "Hello Naje Cute\n",
            "Hello Naje Cute\n",
            "Hello Naje Cute\n",
            "Hello Naje Cute\n",
            "Hello Naje Cute\n",
            "Hello Naje Cute\n",
            "Hello Naje Cute\n",
            "Hello Naje Cute\n",
            "Hello Naje Cute\n",
            "Hello Naje Cute\n",
            "Hello Naje Cute\n",
            "Hello Naje Cute\n",
            "Hello Naje Cute\n",
            "Hello Naje Cute\n",
            "Hello Naje Cute\n",
            "Hello Naje Cute\n",
            "Hello Naje Cute\n",
            "Hello Naje Cute\n",
            "Hello Naje Cute\n",
            "Hello Naje Cute\n",
            "Hello Naje Cute\n",
            "Hello Naje Cute\n",
            "Hello Naje Cute\n",
            "Hello Naje Cute\n",
            "Hello Naje Cute\n",
            "Hello Naje Cute\n",
            "Hello Naje Cute\n",
            "Hello Naje Cute\n",
            "Hello Naje Cute\n",
            "Hello Naje Cute\n",
            "Hello Naje Cute\n",
            "Hello Naje Cute\n",
            "Hello Naje Cute\n",
            "Hello Naje Cute\n",
            "Hello Naje Cute\n",
            "Hello Naje Cute\n",
            "Hello Naje Cute\n",
            "Hello Naje Cute\n",
            "Hello Naje Cute\n",
            "Hello Naje Cute\n",
            "Hello Naje Cute\n",
            "Hello Naje Cute\n",
            "Hello Naje Cute\n",
            "Hello Naje Cute\n",
            "Hello Naje Cute\n",
            "Hello Naje Cute\n",
            "Hello Naje Cute\n",
            "Hello Naje Cute\n",
            "Hello Naje Cute\n",
            "Hello Naje Cute\n",
            "Hello Naje Cute\n",
            "Hello Naje Cute\n",
            "Hello Naje Cute\n",
            "Hello Naje Cute\n",
            "Hello Naje Cute\n",
            "Hello Naje Cute\n",
            "Hello Naje Cute\n",
            "Hello Naje Cute\n",
            "Hello Naje Cute\n",
            "Hello Naje Cute\n",
            "Hello Naje Cute\n",
            "Hello Naje Cute\n",
            "Hello Naje Cute\n",
            "Hello Naje Cute\n",
            "Hello Naje Cute\n",
            "Hello Naje Cute\n",
            "Hello Naje Cute\n",
            "Hello Naje Cute\n",
            "Hello Naje Cute\n",
            "Hello Naje Cute\n",
            "Hello Naje Cute\n",
            "Hello Naje Cute\n",
            "Hello Naje Cute\n",
            "Hello Naje Cute\n",
            "Hello Naje Cute\n",
            "Hello Naje Cute\n",
            "Hello Naje Cute\n",
            "Hello Naje Cute\n",
            "Hello Naje Cute\n",
            "Hello Naje Cute\n",
            "Hello Naje Cute\n",
            "Hello Naje Cute\n",
            "Hello Naje Cute\n",
            "Hello Naje Cute\n",
            "Hello Naje Cute\n",
            "Hello Naje Cute\n",
            "Hello Naje Cute\n",
            "Hello Naje Cute\n",
            "Hello Naje Cute\n",
            "Hello Naje Cute\n",
            "Hello Naje Cute\n",
            "Hello Naje Cute\n",
            "Hello Naje Cute\n",
            "Hello Naje Cute\n",
            "Hello Naje Cute\n",
            "Hello Naje Cute\n",
            "Hello Naje Cute\n",
            "Hello Naje Cute\n",
            "Hello Naje Cute\n",
            "Hello Naje Cute\n",
            "Hello Naje Cute\n",
            "Hello Naje Cute\n",
            "Hello Naje Cute\n",
            "Hello Naje Cute\n",
            "Hello Naje Cute\n",
            "Hello Naje Cute\n",
            "Hello Naje Cute\n",
            "Hello Naje Cute\n",
            "Hello Naje Cute\n",
            "Hello Naje Cute\n",
            "Hello Naje Cute\n",
            "Hello Naje Cute\n",
            "Hello Naje Cute\n",
            "Hello Naje Cute\n",
            "Hello Naje Cute\n",
            "Hello Naje Cute\n",
            "Hello Naje Cute\n",
            "Hello Naje Cute\n",
            "Hello Naje Cute\n",
            "Hello Naje Cute\n",
            "Hello Naje Cute\n",
            "Hello Naje Cute\n",
            "Hello Naje Cute\n",
            "Hello Naje Cute\n",
            "Hello Naje Cute\n",
            "Hello Naje Cute\n",
            "Hello Naje Cute\n",
            "Hello Naje Cute\n",
            "Hello Naje Cute\n",
            "Hello Naje Cute\n",
            "Hello Naje Cute\n",
            "Hello Naje Cute\n",
            "Hello Naje Cute\n",
            "Hello Naje Cute\n",
            "Hello Naje Cute\n",
            "Hello Naje Cute\n",
            "Hello Naje Cute\n",
            "Hello Naje Cute\n",
            "Hello Naje Cute\n",
            "Hello Naje Cute\n",
            "Hello Naje Cute\n",
            "Hello Naje Cute\n",
            "Hello Naje Cute\n",
            "Hello Naje Cute\n",
            "Hello Naje Cute\n",
            "Hello Naje Cute\n",
            "Hello Naje Cute\n",
            "Hello Naje Cute\n",
            "Hello Naje Cute\n",
            "Hello Naje Cute\n",
            "Hello Naje Cute\n",
            "Hello Naje Cute\n",
            "Hello Naje Cute\n",
            "Hello Naje Cute\n",
            "Hello Naje Cute\n",
            "Hello Naje Cute\n",
            "Hello Naje Cute\n",
            "Hello Naje Cute\n",
            "Hello Naje Cute\n",
            "Hello Naje Cute\n",
            "Hello Naje Cute\n",
            "Hello Naje Cute\n",
            "Hello Naje Cute\n",
            "Hello Naje Cute\n",
            "Hello Naje Cute\n",
            "Hello Naje Cute\n",
            "Hello Naje Cute\n",
            "Hello Naje Cute\n",
            "Hello Naje Cute\n",
            "Hello Naje Cute\n",
            "Hello Naje Cute\n",
            "Hello Naje Cute\n",
            "Hello Naje Cute\n",
            "Hello Naje Cute\n",
            "Hello Naje Cute\n",
            "Hello Naje Cute\n",
            "Hello Naje Cute\n",
            "Hello Naje Cute\n",
            "Hello Naje Cute\n",
            "Hello Naje Cute\n",
            "Hello Naje Cute\n",
            "Hello Naje Cute\n",
            "Hello Naje Cute\n",
            "Hello Naje Cute\n",
            "Hello Naje Cute\n",
            "Hello Naje Cute\n",
            "Hello Naje Cute\n",
            "Hello Naje Cute\n",
            "Hello Naje Cute\n",
            "Hello Naje Cute\n",
            "Hello Naje Cute\n",
            "Hello Naje Cute\n",
            "Hello Naje Cute\n",
            "Hello Naje Cute\n",
            "Hello Naje Cute\n",
            "Hello Naje Cute\n",
            "Hello Naje Cute\n",
            "Hello Naje Cute\n",
            "Hello Naje Cute\n",
            "Hello Naje Cute\n",
            "Hello Naje Cute\n",
            "Hello Naje Cute\n",
            "Hello Naje Cute\n",
            "Hello Naje Cute\n",
            "Hello Naje Cute\n",
            "Hello Naje Cute\n",
            "Hello Naje Cute\n",
            "Hello Naje Cute\n",
            "Hello Naje Cute\n",
            "Hello Naje Cute\n",
            "Hello Naje Cute\n",
            "Hello Naje Cute\n",
            "Hello Naje Cute\n",
            "Hello Naje Cute\n",
            "Hello Naje Cute\n",
            "Hello Naje Cute\n",
            "Hello Naje Cute\n",
            "Hello Naje Cute\n",
            "Hello Naje Cute\n",
            "Hello Naje Cute\n",
            "Hello Naje Cute\n",
            "Hello Naje Cute\n",
            "Hello Naje Cute\n",
            "Hello Naje Cute\n",
            "Hello Naje Cute\n",
            "Hello Naje Cute\n",
            "Hello Naje Cute\n",
            "Hello Naje Cute\n",
            "Hello Naje Cute\n",
            "Hello Naje Cute\n",
            "Hello Naje Cute\n",
            "Hello Naje Cute\n",
            "Hello Naje Cute\n",
            "Hello Naje Cute\n",
            "Hello Naje Cute\n",
            "Hello Naje Cute\n",
            "Hello Naje Cute\n",
            "Hello Naje Cute\n",
            "Hello Naje Cute\n",
            "Hello Naje Cute\n",
            "Hello Naje Cute\n",
            "Hello Naje Cute\n",
            "Hello Naje Cute\n",
            "Hello Naje Cute\n",
            "Hello Naje Cute\n",
            "Hello Naje Cute\n",
            "Hello Naje Cute\n",
            "Hello Naje Cute\n",
            "Hello Naje Cute\n",
            "Hello Naje Cute\n",
            "Hello Naje Cute\n",
            "Hello Naje Cute\n",
            "Hello Naje Cute\n",
            "Hello Naje Cute\n",
            "Hello Naje Cute\n",
            "Hello Naje Cute\n",
            "Hello Naje Cute\n",
            "Hello Naje Cute\n",
            "Hello Naje Cute\n",
            "Hello Naje Cute\n",
            "Hello Naje Cute\n",
            "Hello Naje Cute\n",
            "Hello Naje Cute\n",
            "Hello Naje Cute\n",
            "Hello Naje Cute\n",
            "Hello Naje Cute\n",
            "Hello Naje Cute\n",
            "Hello Naje Cute\n",
            "Hello Naje Cute\n",
            "Hello Naje Cute\n",
            "Hello Naje Cute\n",
            "Hello Naje Cute\n",
            "Hello Naje Cute\n",
            "Hello Naje Cute\n",
            "Hello Naje Cute\n",
            "Hello Naje Cute\n",
            "Hello Naje Cute\n",
            "Hello Naje Cute\n",
            "Hello Naje Cute\n",
            "Hello Naje Cute\n",
            "Hello Naje Cute\n",
            "Hello Naje Cute\n",
            "Hello Naje Cute\n",
            "Hello Naje Cute\n",
            "Hello Naje Cute\n",
            "Hello Naje Cute\n",
            "Hello Naje Cute\n",
            "Hello Naje Cute\n",
            "Hello Naje Cute\n",
            "Hello Naje Cute\n",
            "Hello Naje Cute\n",
            "Hello Naje Cute\n",
            "Hello Naje Cute\n",
            "Hello Naje Cute\n",
            "Hello Naje Cute\n",
            "Hello Naje Cute\n",
            "Hello Naje Cute\n",
            "Hello Naje Cute\n",
            "Hello Naje Cute\n",
            "Hello Naje Cute\n",
            "Hello Naje Cute\n",
            "Hello Naje Cute\n",
            "Hello Naje Cute\n",
            "Hello Naje Cute\n",
            "Hello Naje Cute\n",
            "Hello Naje Cute\n",
            "Hello Naje Cute\n",
            "Hello Naje Cute\n",
            "Hello Naje Cute\n",
            "Hello Naje Cute\n",
            "Hello Naje Cute\n",
            "Hello Naje Cute\n",
            "Hello Naje Cute\n",
            "Hello Naje Cute\n",
            "Hello Naje Cute\n",
            "Hello Naje Cute\n",
            "Hello Naje Cute\n",
            "Hello Naje Cute\n",
            "Hello Naje Cute\n",
            "Hello Naje Cute\n",
            "Hello Naje Cute\n",
            "Hello Naje Cute\n",
            "Hello Naje Cute\n",
            "Hello Naje Cute\n",
            "Hello Naje Cute\n",
            "Hello Naje Cute\n",
            "Hello Naje Cute\n",
            "Hello Naje Cute\n",
            "Hello Naje Cute\n",
            "Hello Naje Cute\n",
            "Hello Naje Cute\n",
            "Hello Naje Cute\n",
            "Hello Naje Cute\n",
            "Hello Naje Cute\n",
            "Hello Naje Cute\n",
            "Hello Naje Cute\n",
            "Hello Naje Cute\n",
            "Hello Naje Cute\n",
            "Hello Naje Cute\n",
            "Hello Naje Cute\n",
            "Hello Naje Cute\n",
            "Hello Naje Cute\n",
            "Hello Naje Cute\n",
            "Hello Naje Cute\n",
            "Hello Naje Cute\n",
            "Hello Naje Cute\n",
            "Hello Naje Cute\n",
            "Hello Naje Cute\n",
            "Hello Naje Cute\n",
            "Hello Naje Cute\n",
            "Hello Naje Cute\n",
            "Hello Naje Cute\n",
            "Hello Naje Cute\n",
            "Hello Naje Cute\n",
            "Hello Naje Cute\n",
            "Hello Naje Cute\n",
            "Hello Naje Cute\n",
            "Hello Naje Cute\n",
            "Hello Naje Cute\n",
            "Hello Naje Cute\n",
            "Hello Naje Cute\n",
            "Hello Naje Cute\n",
            "Hello Naje Cute\n",
            "Hello Naje Cute\n",
            "Hello Naje Cute\n",
            "Hello Naje Cute\n",
            "Hello Naje Cute\n",
            "Hello Naje Cute\n",
            "Hello Naje Cute\n",
            "Hello Naje Cute\n",
            "Hello Naje Cute\n",
            "Hello Naje Cute\n",
            "Hello Naje Cute\n",
            "Hello Naje Cute\n",
            "Hello Naje Cute\n",
            "Hello Naje Cute\n",
            "Hello Naje Cute\n",
            "Hello Naje Cute\n",
            "Hello Naje Cute\n",
            "Hello Naje Cute\n",
            "Hello Naje Cute\n",
            "Hello Naje Cute\n",
            "Hello Naje Cute\n",
            "Hello Naje Cute\n",
            "Hello Naje Cute\n",
            "Hello Naje Cute\n",
            "Hello Naje Cute\n",
            "Hello Naje Cute\n",
            "Hello Naje Cute\n",
            "Hello Naje Cute\n",
            "Hello Naje Cute\n",
            "Hello Naje Cute\n",
            "Hello Naje Cute\n",
            "Hello Naje Cute\n",
            "Hello Naje Cute\n",
            "Hello Naje Cute\n",
            "Hello Naje Cute\n",
            "Hello Naje Cute\n",
            "Hello Naje Cute\n",
            "Hello Naje Cute\n",
            "Hello Naje Cute\n",
            "Hello Naje Cute\n",
            "Hello Naje Cute\n",
            "Hello Naje Cute\n",
            "Hello Naje Cute\n",
            "Hello Naje Cute\n",
            "Hello Naje Cute\n",
            "Hello Naje Cute\n",
            "Hello Naje Cute\n",
            "Hello Naje Cute\n",
            "Hello Naje Cute\n",
            "Hello Naje Cute\n",
            "Hello Naje Cute\n",
            "Hello Naje Cute\n",
            "Hello Naje Cute\n",
            "Hello Naje Cute\n",
            "Hello Naje Cute\n",
            "Hello Naje Cute\n",
            "Hello Naje Cute\n",
            "Hello Naje Cute\n",
            "Hello Naje Cute\n",
            "Hello Naje Cute\n",
            "Hello Naje Cute\n",
            "Hello Naje Cute\n",
            "Hello Naje Cute\n",
            "Hello Naje Cute\n",
            "Hello Naje Cute\n",
            "Hello Naje Cute\n",
            "Hello Naje Cute\n",
            "Hello Naje Cute\n",
            "Hello Naje Cute\n",
            "Hello Naje Cute\n",
            "Hello Naje Cute\n",
            "Hello Naje Cute\n",
            "Hello Naje Cute\n",
            "Hello Naje Cute\n",
            "Hello Naje Cute\n",
            "Hello Naje Cute\n",
            "Hello Naje Cute\n",
            "Hello Naje Cute\n",
            "Hello Naje Cute\n",
            "Hello Naje Cute\n",
            "Hello Naje Cute\n",
            "Hello Naje Cute\n",
            "Hello Naje Cute\n",
            "Hello Naje Cute\n",
            "Hello Naje Cute\n",
            "Hello Naje Cute\n",
            "Hello Naje Cute\n",
            "Hello Naje Cute\n",
            "Hello Naje Cute\n",
            "Hello Naje Cute\n",
            "Hello Naje Cute\n",
            "Hello Naje Cute\n",
            "Hello Naje Cute\n",
            "Hello Naje Cute\n",
            "Hello Naje Cute\n",
            "Hello Naje Cute\n",
            "Hello Naje Cute\n",
            "Hello Naje Cute\n",
            "Hello Naje Cute\n",
            "Hello Naje Cute\n",
            "Hello Naje Cute\n",
            "Hello Naje Cute\n",
            "Hello Naje Cute\n",
            "Hello Naje Cute\n",
            "Hello Naje Cute\n",
            "Hello Naje Cute\n",
            "Hello Naje Cute\n",
            "Hello Naje Cute\n",
            "Hello Naje Cute\n",
            "Hello Naje Cute\n",
            "Hello Naje Cute\n",
            "Hello Naje Cute\n",
            "Hello Naje Cute\n",
            "Hello Naje Cute\n",
            "Hello Naje Cute\n",
            "Hello Naje Cute\n",
            "Hello Naje Cute\n",
            "Hello Naje Cute\n",
            "Hello Naje Cute\n",
            "Hello Naje Cute\n",
            "Hello Naje Cute\n",
            "Hello Naje Cute\n",
            "Hello Naje Cute\n",
            "Hello Naje Cute\n",
            "Hello Naje Cute\n",
            "Hello Naje Cute\n",
            "Hello Naje Cute\n",
            "Hello Naje Cute\n",
            "Hello Naje Cute\n",
            "Hello Naje Cute\n",
            "Hello Naje Cute\n",
            "Hello Naje Cute\n",
            "Hello Naje Cute\n",
            "Hello Naje Cute\n",
            "Hello Naje Cute\n",
            "Hello Naje Cute\n",
            "Hello Naje Cute\n",
            "Hello Naje Cute\n",
            "Hello Naje Cute\n",
            "Hello Naje Cute\n",
            "Hello Naje Cute\n",
            "Hello Naje Cute\n",
            "Hello Naje Cute\n",
            "Hello Naje Cute\n",
            "Hello Naje Cute\n",
            "Hello Naje Cute\n",
            "Hello Naje Cute\n",
            "Hello Naje Cute\n",
            "Hello Naje Cute\n",
            "Hello Naje Cute\n",
            "Hello Naje Cute\n",
            "Hello Naje Cute\n",
            "Hello Naje Cute\n",
            "Hello Naje Cute\n",
            "Hello Naje Cute\n",
            "Hello Naje Cute\n",
            "Hello Naje Cute\n",
            "Hello Naje Cute\n",
            "Hello Naje Cute\n",
            "Hello Naje Cute\n",
            "Hello Naje Cute\n",
            "Hello Naje Cute\n",
            "Hello Naje Cute\n",
            "Hello Naje Cute\n",
            "Hello Naje Cute\n",
            "Hello Naje Cute\n",
            "Hello Naje Cute\n",
            "Hello Naje Cute\n",
            "Hello Naje Cute\n",
            "Hello Naje Cute\n",
            "Hello Naje Cute\n",
            "Hello Naje Cute\n",
            "Hello Naje Cute\n",
            "Hello Naje Cute\n",
            "Hello Naje Cute\n",
            "Hello Naje Cute\n",
            "Hello Naje Cute\n",
            "Hello Naje Cute\n",
            "Hello Naje Cute\n",
            "Hello Naje Cute\n",
            "Hello Naje Cute\n",
            "Hello Naje Cute\n",
            "Hello Naje Cute\n",
            "Hello Naje Cute\n",
            "Hello Naje Cute\n",
            "Hello Naje Cute\n",
            "Hello Naje Cute\n",
            "Hello Naje Cute\n",
            "Hello Naje Cute\n",
            "Hello Naje Cute\n",
            "Hello Naje Cute\n",
            "Hello Naje Cute\n",
            "Hello Naje Cute\n",
            "Hello Naje Cute\n",
            "Hello Naje Cute\n",
            "Hello Naje Cute\n",
            "Hello Naje Cute\n",
            "Hello Naje Cute\n",
            "Hello Naje Cute\n",
            "Hello Naje Cute\n",
            "Hello Naje Cute\n",
            "Hello Naje Cute\n",
            "Hello Naje Cute\n",
            "Hello Naje Cute\n",
            "Hello Naje Cute\n",
            "Hello Naje Cute\n",
            "Hello Naje Cute\n",
            "Hello Naje Cute\n",
            "Hello Naje Cute\n",
            "Hello Naje Cute\n",
            "Hello Naje Cute\n",
            "Hello Naje Cute\n",
            "Hello Naje Cute\n",
            "Hello Naje Cute\n",
            "Hello Naje Cute\n",
            "Hello Naje Cute\n",
            "Hello Naje Cute\n",
            "Hello Naje Cute\n",
            "Hello Naje Cute\n",
            "Hello Naje Cute\n",
            "Hello Naje Cute\n",
            "Hello Naje Cute\n",
            "Hello Naje Cute\n",
            "Hello Naje Cute\n",
            "Hello Naje Cute\n",
            "Hello Naje Cute\n",
            "Hello Naje Cute\n",
            "Hello Naje Cute\n",
            "Hello Naje Cute\n",
            "Hello Naje Cute\n",
            "Hello Naje Cute\n",
            "Hello Naje Cute\n",
            "Hello Naje Cute\n",
            "Hello Naje Cute\n",
            "Hello Naje Cute\n",
            "Hello Naje Cute\n",
            "Hello Naje Cute\n",
            "Hello Naje Cute\n",
            "Hello Naje Cute\n",
            "Hello Naje Cute\n",
            "Hello Naje Cute\n",
            "Hello Naje Cute\n",
            "Hello Naje Cute\n",
            "Hello Naje Cute\n",
            "Hello Naje Cute\n",
            "Hello Naje Cute\n",
            "Hello Naje Cute\n",
            "Hello Naje Cute\n",
            "Hello Naje Cute\n",
            "Hello Naje Cute\n",
            "Hello Naje Cute\n",
            "Hello Naje Cute\n",
            "Hello Naje Cute\n",
            "Hello Naje Cute\n",
            "Hello Naje Cute\n",
            "Hello Naje Cute\n",
            "Hello Naje Cute\n",
            "Hello Naje Cute\n",
            "Hello Naje Cute\n",
            "Hello Naje Cute\n",
            "Hello Naje Cute\n",
            "Hello Naje Cute\n",
            "Hello Naje Cute\n",
            "Hello Naje Cute\n",
            "Hello Naje Cute\n",
            "Hello Naje Cute\n",
            "Hello Naje Cute\n",
            "Hello Naje Cute\n",
            "Hello Naje Cute\n",
            "Hello Naje Cute\n",
            "Hello Naje Cute\n",
            "Hello Naje Cute\n",
            "Hello Naje Cute\n",
            "Hello Naje Cute\n",
            "Hello Naje Cute\n",
            "Hello Naje Cute\n",
            "Hello Naje Cute\n",
            "Hello Naje Cute\n",
            "Hello Naje Cute\n",
            "Hello Naje Cute\n",
            "Hello Naje Cute\n",
            "Hello Naje Cute\n",
            "Hello Naje Cute\n",
            "Hello Naje Cute\n",
            "Hello Naje Cute\n",
            "Hello Naje Cute\n",
            "Hello Naje Cute\n",
            "Hello Naje Cute\n",
            "Hello Naje Cute\n",
            "Hello Naje Cute\n",
            "Hello Naje Cute\n",
            "Hello Naje Cute\n",
            "Hello Naje Cute\n",
            "Hello Naje Cute\n",
            "Hello Naje Cute\n",
            "Hello Naje Cute\n",
            "Hello Naje Cute\n",
            "Hello Naje Cute\n",
            "Hello Naje Cute\n",
            "Hello Naje Cute\n",
            "Hello Naje Cute\n",
            "Hello Naje Cute\n",
            "Hello Naje Cute\n",
            "Hello Naje Cute\n",
            "Hello Naje Cute\n",
            "Hello Naje Cute\n",
            "Hello Naje Cute\n",
            "Hello Naje Cute\n",
            "Hello Naje Cute\n",
            "Hello Naje Cute\n",
            "Hello Naje Cute\n",
            "Hello Naje Cute\n",
            "Hello Naje Cute\n",
            "Hello Naje Cute\n",
            "Hello Naje Cute\n",
            "Hello Naje Cute\n",
            "Hello Naje Cute\n",
            "Hello Naje Cute\n",
            "Hello Naje Cute\n",
            "Hello Naje Cute\n",
            "Hello Naje Cute\n",
            "Hello Naje Cute\n",
            "Hello Naje Cute\n",
            "Hello Naje Cute\n",
            "Hello Naje Cute\n",
            "Hello Naje Cute\n",
            "Hello Naje Cute\n",
            "Hello Naje Cute\n",
            "Hello Naje Cute\n",
            "Hello Naje Cute\n",
            "Hello Naje Cute\n",
            "Hello Naje Cute\n",
            "Hello Naje Cute\n",
            "Hello Naje Cute\n",
            "Hello Naje Cute\n",
            "Hello Naje Cute\n",
            "Hello Naje Cute\n",
            "Hello Naje Cute\n",
            "Hello Naje Cute\n",
            "Hello Naje Cute\n",
            "Hello Naje Cute\n",
            "Hello Naje Cute\n",
            "Hello Naje Cute\n",
            "Hello Naje Cute\n",
            "Hello Naje Cute\n",
            "Hello Naje Cute\n",
            "Hello Naje Cute\n",
            "Hello Naje Cute\n",
            "Hello Naje Cute\n",
            "Hello Naje Cute\n",
            "Hello Naje Cute\n",
            "Hello Naje Cute\n",
            "Hello Naje Cute\n",
            "Hello Naje Cute\n",
            "Hello Naje Cute\n",
            "Hello Naje Cute\n",
            "Hello Naje Cute\n",
            "Hello Naje Cute\n",
            "Hello Naje Cute\n",
            "Hello Naje Cute\n",
            "Hello Naje Cute\n",
            "Hello Naje Cute\n",
            "Hello Naje Cute\n",
            "Hello Naje Cute\n",
            "Hello Naje Cute\n",
            "Hello Naje Cute\n",
            "Hello Naje Cute\n",
            "Hello Naje Cute\n",
            "Hello Naje Cute\n",
            "Hello Naje Cute\n",
            "Hello Naje Cute\n",
            "Hello Naje Cute\n",
            "Hello Naje Cute\n",
            "Hello Naje Cute\n",
            "Hello Naje Cute\n",
            "Hello Naje Cute\n",
            "Hello Naje Cute\n",
            "Hello Naje Cute\n",
            "Hello Naje Cute\n",
            "Hello Naje Cute\n",
            "Hello Naje Cute\n",
            "Hello Naje Cute\n",
            "Hello Naje Cute\n",
            "Hello Naje Cute\n",
            "Hello Naje Cute\n",
            "Hello Naje Cute\n",
            "Hello Naje Cute\n",
            "Hello Naje Cute\n",
            "Hello Naje Cute\n",
            "Hello Naje Cute\n",
            "Hello Naje Cute\n",
            "Hello Naje Cute\n",
            "Hello Naje Cute\n",
            "Hello Naje Cute\n",
            "Hello Naje Cute\n"
          ]
        }
      ]
    },
    {
      "cell_type": "code",
      "source": [
        "for i in range(2, 5, 1):\n",
        "    print(i)"
      ],
      "metadata": {
        "id": "A6wYx6ItQgHR",
        "outputId": "52f7c667-80b3-4176-d7d5-9000392158d7",
        "colab": {
          "base_uri": "https://localhost:8080/"
        }
      },
      "execution_count": null,
      "outputs": [
        {
          "output_type": "stream",
          "name": "stdout",
          "text": [
            "2\n",
            "3\n",
            "4\n"
          ]
        }
      ]
    },
    {
      "cell_type": "code",
      "source": [
        "a=int(input())\n",
        "b=int(input())\n",
        "for i in range(a,b+1):\n",
        "  print(i)"
      ],
      "metadata": {
        "id": "LZZ-uzCPSmMh",
        "outputId": "9408cac2-bf4e-4819-ce53-a3a0a0f61ae8",
        "colab": {
          "base_uri": "https://localhost:8080/"
        }
      },
      "execution_count": null,
      "outputs": [
        {
          "output_type": "stream",
          "name": "stdout",
          "text": [
            "6\n",
            "9\n",
            "6\n",
            "7\n",
            "8\n",
            "9\n"
          ]
        }
      ]
    },
    {
      "cell_type": "markdown",
      "source": [
        "WHILE LOOP"
      ],
      "metadata": {
        "id": "p2ymeWQST4_m"
      }
    },
    {
      "cell_type": "code",
      "source": [
        "counter = 1 #nilai start\n",
        "while counter <= 5: #stop\n",
        "    print(counter)\n",
        "    counter += 1 #step #Increment/penambahan"
      ],
      "metadata": {
        "id": "eNVb5MFvQkda",
        "colab": {
          "base_uri": "https://localhost:8080/"
        },
        "outputId": "8cb8b2cd-08a1-488c-9d24-8379ecb9ab4b"
      },
      "execution_count": 1,
      "outputs": [
        {
          "output_type": "stream",
          "name": "stdout",
          "text": [
            "1\n",
            "2\n",
            "3\n",
            "4\n",
            "5\n"
          ]
        }
      ]
    },
    {
      "cell_type": "code",
      "source": [
        "a=int(input())\n",
        "b=int(input())\n",
        "\n",
        "i=a\n",
        "while i<=b:\n",
        "  print(i)\n",
        "  i+=1"
      ],
      "metadata": {
        "colab": {
          "base_uri": "https://localhost:8080/"
        },
        "id": "ABzWZFQUUf5Y",
        "outputId": "d61ad576-24f9-4d42-95ce-537912f1b24e"
      },
      "execution_count": 2,
      "outputs": [
        {
          "output_type": "stream",
          "name": "stdout",
          "text": [
            "5\n",
            "10\n",
            "5\n",
            "6\n",
            "7\n",
            "8\n",
            "9\n",
            "10\n"
          ]
        }
      ]
    },
    {
      "cell_type": "markdown",
      "source": [
        "FOR NESTED LOOP"
      ],
      "metadata": {
        "id": "ZJReN_qRWFPQ"
      }
    },
    {
      "cell_type": "code",
      "source": [
        "n = int(input())\n",
        "\n",
        "for i in range(n):\n",
        "    for j in range(i+1):\n",
        "        print(\"*\", end=\"\")"
      ],
      "metadata": {
        "colab": {
          "base_uri": "https://localhost:8080/"
        },
        "id": "gYoYJnIGWHW4",
        "outputId": "6f8ebdf0-7d0f-4ac6-b158-9f4fa8067a39"
      },
      "execution_count": 8,
      "outputs": [
        {
          "output_type": "stream",
          "name": "stdout",
          "text": [
            "2\n",
            "***"
          ]
        }
      ]
    },
    {
      "cell_type": "code",
      "source": [
        "n = int(input())\n",
        "\n",
        "for i in range(n):\n",
        "    for j in range(i+1):\n",
        "        print(\"*\", end=\"\")\n",
        "    print()"
      ],
      "metadata": {
        "colab": {
          "base_uri": "https://localhost:8080/"
        },
        "id": "XNut8wA8XJKI",
        "outputId": "604a2f8e-cb10-4b9b-f2e0-d4b7ad963da9"
      },
      "execution_count": 12,
      "outputs": [
        {
          "output_type": "stream",
          "name": "stdout",
          "text": [
            "2\n",
            "*\n",
            "**\n"
          ]
        }
      ]
    },
    {
      "cell_type": "markdown",
      "source": [
        "#🧠 LATIHAN SOAL DI KELAS ⏱️"
      ],
      "metadata": {
        "id": "KEGjH0_P9D1-"
      }
    },
    {
      "cell_type": "code",
      "source": [
        "N = int(input(\"Masukkan N: \"))\n",
        "\n",
        "i= N + 1\n",
        "while i % 5 != 0:\n",
        "    print(i)\n",
        "    i += 1\n",
        "\n",
        "    print(\"Output: \", i)"
      ],
      "metadata": {
        "colab": {
          "base_uri": "https://localhost:8080/"
        },
        "id": "aosKLb26YYtn",
        "outputId": "e0b8575f-949e-4ac4-dcd0-2d5a4d072958"
      },
      "execution_count": 15,
      "outputs": [
        {
          "output_type": "stream",
          "name": "stdout",
          "text": [
            "Masukkan N: 8\n",
            "9\n",
            "Output:  10\n"
          ]
        }
      ]
    },
    {
      "cell_type": "code",
      "source": [
        "N = int(input(\"Masukkan N: \"))\n",
        "\n",
        "i= N + 1\n",
        "while i % 7 != 0:\n",
        "    print(i)\n",
        "    i += 1\n",
        "\n",
        "    print(\"Output: \", i)"
      ],
      "metadata": {
        "colab": {
          "base_uri": "https://localhost:8080/"
        },
        "id": "Z8LMWkO9Zl1p",
        "outputId": "21510a85-fc28-4a14-a92c-bf17193ad5a8"
      },
      "execution_count": 17,
      "outputs": [
        {
          "output_type": "stream",
          "name": "stdout",
          "text": [
            "Masukkan N: 9\n",
            "10\n",
            "Output:  11\n",
            "11\n",
            "Output:  12\n",
            "12\n",
            "Output:  13\n",
            "13\n",
            "Output:  14\n"
          ]
        }
      ]
    },
    {
      "cell_type": "code",
      "source": [
        "N = int(input(\"Masukkan N: \"))\n",
        "x = 0\n",
        "pangkat_10 = 1\n",
        "while pangkat_10 <= N:\n",
        "  x += 1\n",
        "  pangkat_10 = 10 ** x\n",
        "print(pangkat_10)"
      ],
      "metadata": {
        "colab": {
          "base_uri": "https://localhost:8080/"
        },
        "id": "p9UBFVZTX5tX",
        "outputId": "ae39c97b-b4ba-494a-f769-0c8608df20aa"
      },
      "execution_count": 19,
      "outputs": [
        {
          "output_type": "stream",
          "name": "stdout",
          "text": [
            "Masukkan N: 4\n",
            "10\n"
          ]
        }
      ]
    },
    {
      "cell_type": "code",
      "source": [
        "N= int(input(\"Masukkan nilai N: \"))\n",
        "\n",
        "for i in range (1, N+1):\n",
        "  print('*' *i)"
      ],
      "metadata": {
        "id": "lIHRABwadGrH"
      },
      "execution_count": null,
      "outputs": []
    },
    {
      "cell_type": "code",
      "source": [
        "N = int(input(\"Masukkan nilai N: \"))\n",
        "for i in range(N, 0, -1):\n",
        "  for j in range(1, i+1):\n",
        "    print(j, end=\"\")\n",
        "  print()"
      ],
      "metadata": {
        "id": "0h4-ZUILdH7e"
      },
      "execution_count": null,
      "outputs": []
    },
    {
      "cell_type": "code",
      "source": [
        "N = int(input(\"Masukkan nilai N: \"))\n",
        "\n",
        "for x in range(1, N+1):\n",
        "  if x % 2 == 0 and x % 3 == 0:\n",
        "    print(\"DuaTiga\", end=\" \")\n",
        "  elif x % 2 == 0:\n",
        "    print(\"Dua\", end=\" \")\n",
        "  elif x % 3 == 0:\n",
        "    print(\"Tiga\", end=\" \")\n",
        "  else:\n",
        "    print(x, end=\" \")\n",
        "print()"
      ],
      "metadata": {
        "id": "U185Dch2dI5m"
      },
      "execution_count": null,
      "outputs": []
    },
    {
      "cell_type": "markdown",
      "source": [
        "Problem (1) Kalkulator Sederhana"
      ],
      "metadata": {
        "id": "nt7-fY7s9PgC"
      }
    },
    {
      "cell_type": "code",
      "source": [
        "#prompt: program kalkulator sederhana\n",
        "\n",
        "def kalkulator():\n",
        "  \"\"\"Fungsi untuk menjalankan kalkulator sederhana.\"\"\"\n",
        "  while True:\n",
        "    print(\"\\nPilih operasi:\")\n",
        "    print(\"1. Penjumlahan (+)\")\n",
        "    print(\"2. Pengurangan (-)\")\n",
        "    print(\"3. Perkalian (*)\")\n",
        "    print(\"4. Pembagian (/)\")\n",
        "    print(\"5. Keluar\")\n",
        "\n",
        "    pilihan = input(\"Masukkan pilihan Anda (1/2/3/4/5): \")\n",
        "\n",
        "    if pilihan == '5':\n",
        "      print(\"Terima kasih telah menggunakan kalkulator!\")\n",
        "      break\n",
        "\n",
        "    try:\n",
        "      bilangan1 = float(input(\"Masukkan bilangan pertama: \"))\n",
        "      bilangan2 = float(input(\"Masukkan bilangan kedua: \"))\n",
        "    except ValueError:\n",
        "      print(\"Masukan harus berupa angka.\")\n",
        "      continue\n",
        "\n",
        "    if pilihan == '1':\n",
        "      print(\"Hasil:\", bilangan1 + bilangan2)\n",
        "    elif pilihan == '2':\n",
        "      print(\"Hasil:\", bilangan1 - bilangan2)\n",
        "    elif pilihan == '3':\n",
        "      print(\"Hasil:\", bilangan1 * bilangan2)\n",
        "    elif pilihan == '4':\n",
        "      if bilangan2 == 0:\n",
        "        print(\"Tidak dapat membagi dengan nol.\")\n",
        "      else:\n",
        "        print(\"Hasil:\", bilangan1 / bilangan2)\n",
        "    else:\n",
        "      print(\"Pilihan tidak valid.\")\n",
        "\n",
        "if __name__ == \"__main__\":\n",
        "  kalkulator()"
      ],
      "metadata": {
        "id": "qHnQSaMJNtbk",
        "outputId": "53899ae4-5e2c-4687-9a5f-243bb59d7929",
        "colab": {
          "base_uri": "https://localhost:8080/",
          "height": 443
        }
      },
      "execution_count": 4,
      "outputs": [
        {
          "output_type": "stream",
          "name": "stdout",
          "text": [
            "\n",
            "Pilih operasi:\n",
            "1. Penjumlahan (+)\n",
            "2. Pengurangan (-)\n",
            "3. Perkalian (*)\n",
            "4. Pembagian (/)\n",
            "5. Keluar\n"
          ]
        },
        {
          "output_type": "error",
          "ename": "KeyboardInterrupt",
          "evalue": "Interrupted by user",
          "traceback": [
            "\u001b[0;31m---------------------------------------------------------------------------\u001b[0m",
            "\u001b[0;31mKeyboardInterrupt\u001b[0m                         Traceback (most recent call last)",
            "\u001b[0;32m<ipython-input-4-014ec9904a27>\u001b[0m in \u001b[0;36m<cell line: 40>\u001b[0;34m()\u001b[0m\n\u001b[1;32m     39\u001b[0m \u001b[0;34m\u001b[0m\u001b[0m\n\u001b[1;32m     40\u001b[0m \u001b[0;32mif\u001b[0m \u001b[0m__name__\u001b[0m \u001b[0;34m==\u001b[0m \u001b[0;34m\"__main__\"\u001b[0m\u001b[0;34m:\u001b[0m\u001b[0;34m\u001b[0m\u001b[0;34m\u001b[0m\u001b[0m\n\u001b[0;32m---> 41\u001b[0;31m   \u001b[0mkalkulator\u001b[0m\u001b[0;34m(\u001b[0m\u001b[0;34m)\u001b[0m\u001b[0;34m\u001b[0m\u001b[0;34m\u001b[0m\u001b[0m\n\u001b[0m",
            "\u001b[0;32m<ipython-input-4-014ec9904a27>\u001b[0m in \u001b[0;36mkalkulator\u001b[0;34m()\u001b[0m\n\u001b[1;32m     11\u001b[0m     \u001b[0mprint\u001b[0m\u001b[0;34m(\u001b[0m\u001b[0;34m\"5. Keluar\"\u001b[0m\u001b[0;34m)\u001b[0m\u001b[0;34m\u001b[0m\u001b[0;34m\u001b[0m\u001b[0m\n\u001b[1;32m     12\u001b[0m \u001b[0;34m\u001b[0m\u001b[0m\n\u001b[0;32m---> 13\u001b[0;31m     \u001b[0mpilihan\u001b[0m \u001b[0;34m=\u001b[0m \u001b[0minput\u001b[0m\u001b[0;34m(\u001b[0m\u001b[0;34m\"Masukkan pilihan Anda (1/2/3/4/5): \"\u001b[0m\u001b[0;34m)\u001b[0m\u001b[0;34m\u001b[0m\u001b[0;34m\u001b[0m\u001b[0m\n\u001b[0m\u001b[1;32m     14\u001b[0m \u001b[0;34m\u001b[0m\u001b[0m\n\u001b[1;32m     15\u001b[0m     \u001b[0;32mif\u001b[0m \u001b[0mpilihan\u001b[0m \u001b[0;34m==\u001b[0m \u001b[0;34m'5'\u001b[0m\u001b[0;34m:\u001b[0m\u001b[0;34m\u001b[0m\u001b[0;34m\u001b[0m\u001b[0m\n",
            "\u001b[0;32m/usr/local/lib/python3.10/dist-packages/ipykernel/kernelbase.py\u001b[0m in \u001b[0;36mraw_input\u001b[0;34m(self, prompt)\u001b[0m\n\u001b[1;32m    849\u001b[0m                 \u001b[0;34m\"raw_input was called, but this frontend does not support input requests.\"\u001b[0m\u001b[0;34m\u001b[0m\u001b[0;34m\u001b[0m\u001b[0m\n\u001b[1;32m    850\u001b[0m             )\n\u001b[0;32m--> 851\u001b[0;31m         return self._input_request(str(prompt),\n\u001b[0m\u001b[1;32m    852\u001b[0m             \u001b[0mself\u001b[0m\u001b[0;34m.\u001b[0m\u001b[0m_parent_ident\u001b[0m\u001b[0;34m,\u001b[0m\u001b[0;34m\u001b[0m\u001b[0;34m\u001b[0m\u001b[0m\n\u001b[1;32m    853\u001b[0m             \u001b[0mself\u001b[0m\u001b[0;34m.\u001b[0m\u001b[0m_parent_header\u001b[0m\u001b[0;34m,\u001b[0m\u001b[0;34m\u001b[0m\u001b[0;34m\u001b[0m\u001b[0m\n",
            "\u001b[0;32m/usr/local/lib/python3.10/dist-packages/ipykernel/kernelbase.py\u001b[0m in \u001b[0;36m_input_request\u001b[0;34m(self, prompt, ident, parent, password)\u001b[0m\n\u001b[1;32m    893\u001b[0m             \u001b[0;32mexcept\u001b[0m \u001b[0mKeyboardInterrupt\u001b[0m\u001b[0;34m:\u001b[0m\u001b[0;34m\u001b[0m\u001b[0;34m\u001b[0m\u001b[0m\n\u001b[1;32m    894\u001b[0m                 \u001b[0;31m# re-raise KeyboardInterrupt, to truncate traceback\u001b[0m\u001b[0;34m\u001b[0m\u001b[0;34m\u001b[0m\u001b[0m\n\u001b[0;32m--> 895\u001b[0;31m                 \u001b[0;32mraise\u001b[0m \u001b[0mKeyboardInterrupt\u001b[0m\u001b[0;34m(\u001b[0m\u001b[0;34m\"Interrupted by user\"\u001b[0m\u001b[0;34m)\u001b[0m \u001b[0;32mfrom\u001b[0m \u001b[0;32mNone\u001b[0m\u001b[0;34m\u001b[0m\u001b[0;34m\u001b[0m\u001b[0m\n\u001b[0m\u001b[1;32m    896\u001b[0m             \u001b[0;32mexcept\u001b[0m \u001b[0mException\u001b[0m \u001b[0;32mas\u001b[0m \u001b[0me\u001b[0m\u001b[0;34m:\u001b[0m\u001b[0;34m\u001b[0m\u001b[0;34m\u001b[0m\u001b[0m\n\u001b[1;32m    897\u001b[0m                 \u001b[0mself\u001b[0m\u001b[0;34m.\u001b[0m\u001b[0mlog\u001b[0m\u001b[0;34m.\u001b[0m\u001b[0mwarning\u001b[0m\u001b[0;34m(\u001b[0m\u001b[0;34m\"Invalid Message:\"\u001b[0m\u001b[0;34m,\u001b[0m \u001b[0mexc_info\u001b[0m\u001b[0;34m=\u001b[0m\u001b[0;32mTrue\u001b[0m\u001b[0;34m)\u001b[0m\u001b[0;34m\u001b[0m\u001b[0;34m\u001b[0m\u001b[0m\n",
            "\u001b[0;31mKeyboardInterrupt\u001b[0m: Interrupted by user"
          ]
        }
      ]
    },
    {
      "cell_type": "markdown",
      "source": [
        "- Interpretasi coding:\n",
        "\n",
        "- Interpretasi Hasil:"
      ],
      "metadata": {
        "id": "Wou8YKfJ9lvY"
      }
    },
    {
      "cell_type": "markdown",
      "source": [
        "Problem (2) Bilangan Ganjil"
      ],
      "metadata": {
        "id": "Eucg6DUK9fgA"
      }
    },
    {
      "cell_type": "code",
      "source": [
        "#prompt: program bilangan ganjil\n",
        "\n",
        "def bilangan_ganjil():\n",
        "\n",
        "  print(\"Bilangan ganjil dari 1 sampai 20:\")\n",
        "  for i in range(1, 21):\n",
        "    if i % 2 != 0:\n",
        "      print(i)\n",
        "\n",
        "if __name__ == \"__main__\":\n",
        "  bilangan_ganjil()"
      ],
      "metadata": {
        "id": "9uWMEZpP9hlB",
        "outputId": "560498d5-24f4-42bf-bcc8-68f4ce52732b",
        "colab": {
          "base_uri": "https://localhost:8080/"
        }
      },
      "execution_count": 3,
      "outputs": [
        {
          "output_type": "stream",
          "name": "stdout",
          "text": [
            "Bilangan ganjil dari 1 sampai 20:\n",
            "1\n",
            "3\n",
            "5\n",
            "7\n",
            "9\n",
            "11\n",
            "13\n",
            "15\n",
            "17\n",
            "19\n"
          ]
        }
      ]
    },
    {
      "cell_type": "markdown",
      "source": [
        "- Interpretasi coding:\n",
        "\n",
        "- Interpretasi Hasil:"
      ],
      "metadata": {
        "id": "fM9Fo97_93Ni"
      }
    },
    {
      "cell_type": "markdown",
      "source": [
        "#🏆 POST TEST 🎯"
      ],
      "metadata": {
        "id": "J_75vTSXKFGE"
      }
    },
    {
      "cell_type": "markdown",
      "source": [
        "Problem (1)"
      ],
      "metadata": {
        "id": "twhHfrqiKSfV"
      }
    },
    {
      "cell_type": "code",
      "source": [],
      "metadata": {
        "id": "hOI8Gls9KV05"
      },
      "execution_count": null,
      "outputs": []
    },
    {
      "cell_type": "markdown",
      "source": [
        "- Interpretasi coding:\n",
        "- Interpretasi hasil:"
      ],
      "metadata": {
        "id": "t9x---59KWVI"
      }
    },
    {
      "cell_type": "markdown",
      "source": [
        "📌Catatan:\n",
        "  - Notebook python ini dibuat untuk memudahkan temen-temen belajar ngoding dan pengumpulan tugas.\n",
        "  - Silakan download notebook ini lalu upload di Google Collab milik kalian agar format `pertemuan`, `topik pertemuan`,\n",
        "`tanggal`, `deskripsi pembahasan materi`, `baris coding` dan `interpretasi` bisa disesuaikan dengan kebutuhan teman-teman.\n",
        "\n",
        "  - Interpretasi coding dan hasil dimaksudkan agar teman-teman semakin memahami apa yang dipelajari.\n",
        "\n",
        "  - Deskripsi pembahasan materi dimaksudkan agar teman-teman semakin memahami apa fokus yang dipelajari.\n",
        "\n",
        "  - Tulisan di setiap sebelum baris code disebut `markdown`. Ada beberapa jenis simbol yang memudahkan kepenulisan `markdown` kita, yaitu seperti : untuk mengatur ukuran tulisan biasanya tulisan pada header menggunakan ini`#`, `##`, `###`, untuk membuat pointer menggunakan ini `-`, untuk membuat tulisan ter-highlight menggunakan ini *` `* , untuk short-cut membuat tulisan jadi **bold** gunakan ini `** **`, dan untuk *tulisan miring* gunakan ini `* *` .\n",
        "\n",
        "  - Semangat belajar! 🌟✨\n",
        "\n",
        "©️ LABORATORIUM SAINS DATA 2024"
      ],
      "metadata": {
        "id": "D-tRQnbQK69l"
      }
    }
  ]
}